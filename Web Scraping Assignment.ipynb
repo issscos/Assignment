{
 "cells": [
  {
   "cell_type": "markdown",
   "id": "737e6efb",
   "metadata": {},
   "source": [
    "# Extracting Tesla Stock Data Using yfinance "
   ]
  },
  {
   "cell_type": "code",
   "execution_count": 69,
   "id": "a87f779e",
   "metadata": {},
   "outputs": [
    {
     "data": {
      "text/html": [
       "<div>\n",
       "<style scoped>\n",
       "    .dataframe tbody tr th:only-of-type {\n",
       "        vertical-align: middle;\n",
       "    }\n",
       "\n",
       "    .dataframe tbody tr th {\n",
       "        vertical-align: top;\n",
       "    }\n",
       "\n",
       "    .dataframe thead th {\n",
       "        text-align: right;\n",
       "    }\n",
       "</style>\n",
       "<table border=\"1\" class=\"dataframe\">\n",
       "  <thead>\n",
       "    <tr style=\"text-align: right;\">\n",
       "      <th></th>\n",
       "      <th>Date</th>\n",
       "      <th>Open</th>\n",
       "      <th>High</th>\n",
       "      <th>Low</th>\n",
       "      <th>Close</th>\n",
       "      <th>Volume</th>\n",
       "      <th>Dividends</th>\n",
       "      <th>Stock Splits</th>\n",
       "    </tr>\n",
       "  </thead>\n",
       "  <tbody>\n",
       "    <tr>\n",
       "      <th>0</th>\n",
       "      <td>2023-08-21 00:00:00-04:00</td>\n",
       "      <td>221.550003</td>\n",
       "      <td>232.130005</td>\n",
       "      <td>220.580002</td>\n",
       "      <td>231.279999</td>\n",
       "      <td>135702700</td>\n",
       "      <td>0.0</td>\n",
       "      <td>0.0</td>\n",
       "    </tr>\n",
       "    <tr>\n",
       "      <th>1</th>\n",
       "      <td>2023-08-22 00:00:00-04:00</td>\n",
       "      <td>240.250000</td>\n",
       "      <td>240.820007</td>\n",
       "      <td>229.550003</td>\n",
       "      <td>233.190002</td>\n",
       "      <td>130597900</td>\n",
       "      <td>0.0</td>\n",
       "      <td>0.0</td>\n",
       "    </tr>\n",
       "    <tr>\n",
       "      <th>2</th>\n",
       "      <td>2023-08-23 00:00:00-04:00</td>\n",
       "      <td>229.339996</td>\n",
       "      <td>238.979996</td>\n",
       "      <td>229.289993</td>\n",
       "      <td>236.860001</td>\n",
       "      <td>101077600</td>\n",
       "      <td>0.0</td>\n",
       "      <td>0.0</td>\n",
       "    </tr>\n",
       "    <tr>\n",
       "      <th>3</th>\n",
       "      <td>2023-08-24 00:00:00-04:00</td>\n",
       "      <td>238.660004</td>\n",
       "      <td>238.919998</td>\n",
       "      <td>228.179993</td>\n",
       "      <td>230.039993</td>\n",
       "      <td>99777400</td>\n",
       "      <td>0.0</td>\n",
       "      <td>0.0</td>\n",
       "    </tr>\n",
       "    <tr>\n",
       "      <th>4</th>\n",
       "      <td>2023-08-25 00:00:00-04:00</td>\n",
       "      <td>231.309998</td>\n",
       "      <td>239.000000</td>\n",
       "      <td>230.350006</td>\n",
       "      <td>238.589996</td>\n",
       "      <td>106612200</td>\n",
       "      <td>0.0</td>\n",
       "      <td>0.0</td>\n",
       "    </tr>\n",
       "  </tbody>\n",
       "</table>\n",
       "</div>"
      ],
      "text/plain": [
       "                       Date        Open        High         Low       Close  \\\n",
       "0 2023-08-21 00:00:00-04:00  221.550003  232.130005  220.580002  231.279999   \n",
       "1 2023-08-22 00:00:00-04:00  240.250000  240.820007  229.550003  233.190002   \n",
       "2 2023-08-23 00:00:00-04:00  229.339996  238.979996  229.289993  236.860001   \n",
       "3 2023-08-24 00:00:00-04:00  238.660004  238.919998  228.179993  230.039993   \n",
       "4 2023-08-25 00:00:00-04:00  231.309998  239.000000  230.350006  238.589996   \n",
       "\n",
       "      Volume  Dividends  Stock Splits  \n",
       "0  135702700        0.0           0.0  \n",
       "1  130597900        0.0           0.0  \n",
       "2  101077600        0.0           0.0  \n",
       "3   99777400        0.0           0.0  \n",
       "4  106612200        0.0           0.0  "
      ]
     },
     "execution_count": 69,
     "metadata": {},
     "output_type": "execute_result"
    }
   ],
   "source": [
    "import yfinance as yf\n",
    "ticker_symbol = 'TSLA'\n",
    "tsla_data = yf.Ticker(ticker_symbol)\n",
    "Tsdata = tsla_data.history(period=\"1y\") \n",
    "Tsdata.reset_index(inplace=True)\n",
    "Tsdata.head()"
   ]
  },
  {
   "cell_type": "markdown",
   "id": "b503f002",
   "metadata": {},
   "source": [
    "# Extracting Tesla Revenue Data Using Webscraping "
   ]
  },
  {
   "cell_type": "code",
   "execution_count": 1,
   "id": "346cfc5a",
   "metadata": {},
   "outputs": [],
   "source": [
    "import requests\n",
    "from bs4 import BeautifulSoup\n",
    "import pandas as pd\n"
   ]
  },
  {
   "cell_type": "code",
   "execution_count": 6,
   "id": "f3332fb6",
   "metadata": {},
   "outputs": [
    {
     "name": "stdout",
     "output_type": "stream",
     "text": [
      "No table found with the specified class.\n"
     ]
    }
   ],
   "source": [
    "url = \"https://www.macrotrends.net/stocks/charts/TSLA/tesla/revenue\"\n",
    "response = requests.get(url)\n",
    "soup = BeautifulSoup(response.text, 'html.parser')\n",
    "table = soup.find_all('table', {'class': 'historical_data_table table'})\n",
    "if table:\n",
    "    for row in table[0].find_all('tr'):\n",
    "        columns = row.find_all('td')\n",
    "        if len(columns) > 1:\n",
    "            date = columns[0].get_text(strip=True)\n",
    "            revenue = columns[1].get_text(strip=True)\n",
    "            print(f\"Date: {date}, Revenue: {revenue}\")\n",
    "else:\n",
    "    print(\"No table found with the specified class.\")\n",
    "\n"
   ]
  },
  {
   "cell_type": "markdown",
   "id": "5626e65e",
   "metadata": {},
   "source": [
    "# Extracting GameStop Stock Data Using yfinance "
   ]
  },
  {
   "cell_type": "code",
   "execution_count": 7,
   "id": "cecc7ccd",
   "metadata": {},
   "outputs": [
    {
     "data": {
      "text/html": [
       "<div>\n",
       "<style scoped>\n",
       "    .dataframe tbody tr th:only-of-type {\n",
       "        vertical-align: middle;\n",
       "    }\n",
       "\n",
       "    .dataframe tbody tr th {\n",
       "        vertical-align: top;\n",
       "    }\n",
       "\n",
       "    .dataframe thead th {\n",
       "        text-align: right;\n",
       "    }\n",
       "</style>\n",
       "<table border=\"1\" class=\"dataframe\">\n",
       "  <thead>\n",
       "    <tr style=\"text-align: right;\">\n",
       "      <th></th>\n",
       "      <th>Date</th>\n",
       "      <th>Open</th>\n",
       "      <th>High</th>\n",
       "      <th>Low</th>\n",
       "      <th>Close</th>\n",
       "      <th>Volume</th>\n",
       "      <th>Dividends</th>\n",
       "      <th>Stock Splits</th>\n",
       "    </tr>\n",
       "  </thead>\n",
       "  <tbody>\n",
       "    <tr>\n",
       "      <th>0</th>\n",
       "      <td>2023-08-24 00:00:00-04:00</td>\n",
       "      <td>16.940001</td>\n",
       "      <td>16.980000</td>\n",
       "      <td>16.180000</td>\n",
       "      <td>16.360001</td>\n",
       "      <td>3624500</td>\n",
       "      <td>0.0</td>\n",
       "      <td>0.0</td>\n",
       "    </tr>\n",
       "    <tr>\n",
       "      <th>1</th>\n",
       "      <td>2023-08-25 00:00:00-04:00</td>\n",
       "      <td>16.500000</td>\n",
       "      <td>17.180000</td>\n",
       "      <td>16.450001</td>\n",
       "      <td>17.129999</td>\n",
       "      <td>3423500</td>\n",
       "      <td>0.0</td>\n",
       "      <td>0.0</td>\n",
       "    </tr>\n",
       "    <tr>\n",
       "      <th>2</th>\n",
       "      <td>2023-08-28 00:00:00-04:00</td>\n",
       "      <td>17.350000</td>\n",
       "      <td>18.110001</td>\n",
       "      <td>17.250000</td>\n",
       "      <td>17.570000</td>\n",
       "      <td>3007400</td>\n",
       "      <td>0.0</td>\n",
       "      <td>0.0</td>\n",
       "    </tr>\n",
       "    <tr>\n",
       "      <th>3</th>\n",
       "      <td>2023-08-29 00:00:00-04:00</td>\n",
       "      <td>17.600000</td>\n",
       "      <td>18.549999</td>\n",
       "      <td>17.600000</td>\n",
       "      <td>18.240000</td>\n",
       "      <td>2709200</td>\n",
       "      <td>0.0</td>\n",
       "      <td>0.0</td>\n",
       "    </tr>\n",
       "    <tr>\n",
       "      <th>4</th>\n",
       "      <td>2023-08-30 00:00:00-04:00</td>\n",
       "      <td>18.200001</td>\n",
       "      <td>18.520000</td>\n",
       "      <td>17.910000</td>\n",
       "      <td>18.370001</td>\n",
       "      <td>1884500</td>\n",
       "      <td>0.0</td>\n",
       "      <td>0.0</td>\n",
       "    </tr>\n",
       "  </tbody>\n",
       "</table>\n",
       "</div>"
      ],
      "text/plain": [
       "                       Date       Open       High        Low      Close  \\\n",
       "0 2023-08-24 00:00:00-04:00  16.940001  16.980000  16.180000  16.360001   \n",
       "1 2023-08-25 00:00:00-04:00  16.500000  17.180000  16.450001  17.129999   \n",
       "2 2023-08-28 00:00:00-04:00  17.350000  18.110001  17.250000  17.570000   \n",
       "3 2023-08-29 00:00:00-04:00  17.600000  18.549999  17.600000  18.240000   \n",
       "4 2023-08-30 00:00:00-04:00  18.200001  18.520000  17.910000  18.370001   \n",
       "\n",
       "    Volume  Dividends  Stock Splits  \n",
       "0  3624500        0.0           0.0  \n",
       "1  3423500        0.0           0.0  \n",
       "2  3007400        0.0           0.0  \n",
       "3  2709200        0.0           0.0  \n",
       "4  1884500        0.0           0.0  "
      ]
     },
     "execution_count": 7,
     "metadata": {},
     "output_type": "execute_result"
    }
   ],
   "source": [
    "import yfinance as yf\n",
    "ticker_symbol = 'GME'\n",
    "gme_data = yf.Ticker(ticker_symbol)\n",
    "hist = gme_data.history(period=\"1y\")\n",
    "hist.reset_index(inplace=True)\n",
    "hist.head()"
   ]
  },
  {
   "cell_type": "markdown",
   "id": "8bff5e28",
   "metadata": {},
   "source": [
    "# Extracting GameStop Revenue Data Using Webscraping "
   ]
  },
  {
   "cell_type": "code",
   "execution_count": 7,
   "id": "8b922335",
   "metadata": {},
   "outputs": [
    {
     "name": "stdout",
     "output_type": "stream",
     "text": [
      "No table found with the specified class.\n"
     ]
    }
   ],
   "source": [
    "import requests\n",
    "from bs4 import BeautifulSoup\n",
    "url = \"https://www.macrotrends.net/stocks/charts/GME/gamestop/revenue\"\n",
    "response = requests.get(url)\n",
    "soup = BeautifulSoup(response.text, 'html.parser')\n",
    "table = soup.find_all('table', {'class': 'historical_data_table table'})\n",
    "if table:\n",
    "    for row in table[0].find_all('tr'):\n",
    "        columns = row.find_all('td')\n",
    "        if len(columns) > 1:\n",
    "            date = columns[0].get_text(strip=True)\n",
    "            revenue = columns[1].get_text(strip=True)\n",
    "            print(f\"Date: {date}, Revenue: {revenue}\")\n",
    "else:\n",
    "    print(\"No table found with the specified class.\")\n"
   ]
  },
  {
   "cell_type": "code",
   "execution_count": null,
   "id": "7bb95cd9",
   "metadata": {},
   "outputs": [],
   "source": []
  }
 ],
 "metadata": {
  "kernelspec": {
   "display_name": "Python 3 (ipykernel)",
   "language": "python",
   "name": "python3"
  },
  "language_info": {
   "codemirror_mode": {
    "name": "ipython",
    "version": 3
   },
   "file_extension": ".py",
   "mimetype": "text/x-python",
   "name": "python",
   "nbconvert_exporter": "python",
   "pygments_lexer": "ipython3",
   "version": "3.11.5"
  }
 },
 "nbformat": 4,
 "nbformat_minor": 5
}
